{
 "cells": [
  {
   "cell_type": "code",
   "execution_count": 3,
   "metadata": {},
   "outputs": [],
   "source": [
    "import pandas as pd\n",
    "import numpy as np\n",
    "import matplotlib.pyplot as plt\n",
    "import seaborn as sns\n",
    "from matplotlib import cm\n",
    "\n",
    "from sklearn.datasets import load_wine\n",
    "from sklearn.preprocessing import StandardScaler\n",
    "from sklearn.manifold import TSNE\n",
    "from sklearn import datasets\n",
    "from sklearn.cluster import KMeans\n",
    "from sklearn.preprocessing import MinMaxScaler\n",
    "from sklearn.cluster import KMeans"
   ]
  },
  {
   "cell_type": "code",
   "execution_count": 4,
   "metadata": {},
   "outputs": [
    {
     "data": {
      "text/html": [
       "<div>\n",
       "<style scoped>\n",
       "    .dataframe tbody tr th:only-of-type {\n",
       "        vertical-align: middle;\n",
       "    }\n",
       "\n",
       "    .dataframe tbody tr th {\n",
       "        vertical-align: top;\n",
       "    }\n",
       "\n",
       "    .dataframe thead th {\n",
       "        text-align: right;\n",
       "    }\n",
       "</style>\n",
       "<table border=\"1\" class=\"dataframe\">\n",
       "  <thead>\n",
       "    <tr style=\"text-align: right;\">\n",
       "      <th></th>\n",
       "      <th>안전</th>\n",
       "      <th>건강</th>\n",
       "      <th>환경</th>\n",
       "      <th>경제</th>\n",
       "      <th>교육</th>\n",
       "      <th>사회</th>\n",
       "      <th>여가</th>\n",
       "    </tr>\n",
       "  </thead>\n",
       "  <tbody>\n",
       "    <tr>\n",
       "      <th>0</th>\n",
       "      <td>0.7470</td>\n",
       "      <td>0.9220</td>\n",
       "      <td>0.4637</td>\n",
       "      <td>1.0000</td>\n",
       "      <td>0.6839</td>\n",
       "      <td>0.7425</td>\n",
       "      <td>0.6331</td>\n",
       "    </tr>\n",
       "    <tr>\n",
       "      <th>1</th>\n",
       "      <td>0.9320</td>\n",
       "      <td>0.6742</td>\n",
       "      <td>0.2865</td>\n",
       "      <td>0.9806</td>\n",
       "      <td>0.5013</td>\n",
       "      <td>0.4608</td>\n",
       "      <td>0.6691</td>\n",
       "    </tr>\n",
       "    <tr>\n",
       "      <th>2</th>\n",
       "      <td>0.5537</td>\n",
       "      <td>0.5898</td>\n",
       "      <td>0.5030</td>\n",
       "      <td>0.6915</td>\n",
       "      <td>0.2679</td>\n",
       "      <td>0.4317</td>\n",
       "      <td>0.2817</td>\n",
       "    </tr>\n",
       "    <tr>\n",
       "      <th>3</th>\n",
       "      <td>0.5347</td>\n",
       "      <td>0.4794</td>\n",
       "      <td>0.4196</td>\n",
       "      <td>0.6533</td>\n",
       "      <td>0.2464</td>\n",
       "      <td>0.4182</td>\n",
       "      <td>0.3257</td>\n",
       "    </tr>\n",
       "    <tr>\n",
       "      <th>4</th>\n",
       "      <td>0.6072</td>\n",
       "      <td>0.6373</td>\n",
       "      <td>0.4992</td>\n",
       "      <td>0.4445</td>\n",
       "      <td>0.4879</td>\n",
       "      <td>0.3519</td>\n",
       "      <td>0.3313</td>\n",
       "    </tr>\n",
       "    <tr>\n",
       "      <th>...</th>\n",
       "      <td>...</td>\n",
       "      <td>...</td>\n",
       "      <td>...</td>\n",
       "      <td>...</td>\n",
       "      <td>...</td>\n",
       "      <td>...</td>\n",
       "      <td>...</td>\n",
       "    </tr>\n",
       "    <tr>\n",
       "      <th>224</th>\n",
       "      <td>0.7012</td>\n",
       "      <td>0.2036</td>\n",
       "      <td>0.7717</td>\n",
       "      <td>0.1401</td>\n",
       "      <td>0.5064</td>\n",
       "      <td>0.2192</td>\n",
       "      <td>0.6758</td>\n",
       "    </tr>\n",
       "    <tr>\n",
       "      <th>225</th>\n",
       "      <td>0.4392</td>\n",
       "      <td>0.2150</td>\n",
       "      <td>0.7998</td>\n",
       "      <td>0.1799</td>\n",
       "      <td>0.8178</td>\n",
       "      <td>0.5717</td>\n",
       "      <td>0.4838</td>\n",
       "    </tr>\n",
       "    <tr>\n",
       "      <th>226</th>\n",
       "      <td>0.4268</td>\n",
       "      <td>0.2128</td>\n",
       "      <td>0.9117</td>\n",
       "      <td>0.0373</td>\n",
       "      <td>0.1640</td>\n",
       "      <td>0.0510</td>\n",
       "      <td>0.7900</td>\n",
       "    </tr>\n",
       "    <tr>\n",
       "      <th>227</th>\n",
       "      <td>0.4461</td>\n",
       "      <td>0.2537</td>\n",
       "      <td>0.6842</td>\n",
       "      <td>0.4250</td>\n",
       "      <td>0.6468</td>\n",
       "      <td>0.6107</td>\n",
       "      <td>0.6948</td>\n",
       "    </tr>\n",
       "    <tr>\n",
       "      <th>228</th>\n",
       "      <td>0.4461</td>\n",
       "      <td>0.2537</td>\n",
       "      <td>0.6842</td>\n",
       "      <td>0.4250</td>\n",
       "      <td>0.6468</td>\n",
       "      <td>0.6107</td>\n",
       "      <td>0.6948</td>\n",
       "    </tr>\n",
       "  </tbody>\n",
       "</table>\n",
       "<p>229 rows × 7 columns</p>\n",
       "</div>"
      ],
      "text/plain": [
       "         안전      건강      환경      경제      교육      사회      여가\n",
       "0    0.7470  0.9220  0.4637  1.0000  0.6839  0.7425  0.6331\n",
       "1    0.9320  0.6742  0.2865  0.9806  0.5013  0.4608  0.6691\n",
       "2    0.5537  0.5898  0.5030  0.6915  0.2679  0.4317  0.2817\n",
       "3    0.5347  0.4794  0.4196  0.6533  0.2464  0.4182  0.3257\n",
       "4    0.6072  0.6373  0.4992  0.4445  0.4879  0.3519  0.3313\n",
       "..      ...     ...     ...     ...     ...     ...     ...\n",
       "224  0.7012  0.2036  0.7717  0.1401  0.5064  0.2192  0.6758\n",
       "225  0.4392  0.2150  0.7998  0.1799  0.8178  0.5717  0.4838\n",
       "226  0.4268  0.2128  0.9117  0.0373  0.1640  0.0510  0.7900\n",
       "227  0.4461  0.2537  0.6842  0.4250  0.6468  0.6107  0.6948\n",
       "228  0.4461  0.2537  0.6842  0.4250  0.6468  0.6107  0.6948\n",
       "\n",
       "[229 rows x 7 columns]"
      ]
     },
     "execution_count": 4,
     "metadata": {},
     "output_type": "execute_result"
    }
   ],
   "source": [
    "df = pd.read_csv(r'D:\\사용자\\USER\\Desktop\\데이터\\유사도\\유사도3.csv', encoding='cp949')\n",
    "df = df.drop(columns=['구군'], axis=1)\n",
    "df\n",
    "\n"
   ]
  },
  {
   "cell_type": "code",
   "execution_count": 5,
   "metadata": {},
   "outputs": [
    {
     "data": {
      "image/png": "[encoded data removed]",
      "text/plain": [
       "<Figure size 432x288 with 1 Axes>"
      ]
     },
     "metadata": {
      "needs_background": "light"
     },
     "output_type": "display_data"
    }
   ],
   "source": [
    "tsne = TSNE(n_components=2,random_state=0,learning_rate=200,init='pca',perplexity=30,metric=\"manhattan\",early_exaggeration=30)\n",
    "tsne_results = tsne.fit_transform(df)\n",
    "tsne_results=pd.DataFrame(tsne_results, columns=['tsne1', 'tsne2'])\n",
    "plt.scatter(tsne_results['tsne1'], tsne_results['tsne2'])\n",
    "plt.show()"
   ]
  },
  {
   "cell_type": "code",
   "execution_count": 6,
   "metadata": {},
   "outputs": [
    {
     "data": {
      "text/html": [
       "<div>\n",
       "<style scoped>\n",
       "    .dataframe tbody tr th:only-of-type {\n",
       "        vertical-align: middle;\n",
       "    }\n",
       "\n",
       "    .dataframe tbody tr th {\n",
       "        vertical-align: top;\n",
       "    }\n",
       "\n",
       "    .dataframe thead th {\n",
       "        text-align: right;\n",
       "    }\n",
       "</style>\n",
       "<table border=\"1\" class=\"dataframe\">\n",
       "  <thead>\n",
       "    <tr style=\"text-align: right;\">\n",
       "      <th></th>\n",
       "      <th>t1</th>\n",
       "      <th>t2</th>\n",
       "    </tr>\n",
       "  </thead>\n",
       "  <tbody>\n",
       "    <tr>\n",
       "      <th>0</th>\n",
       "      <td>-7.003496</td>\n",
       "      <td>-9.252703</td>\n",
       "    </tr>\n",
       "    <tr>\n",
       "      <th>1</th>\n",
       "      <td>5.126333</td>\n",
       "      <td>8.976897</td>\n",
       "    </tr>\n",
       "    <tr>\n",
       "      <th>2</th>\n",
       "      <td>-12.963505</td>\n",
       "      <td>-8.120878</td>\n",
       "    </tr>\n",
       "    <tr>\n",
       "      <th>3</th>\n",
       "      <td>-13.114311</td>\n",
       "      <td>-8.429770</td>\n",
       "    </tr>\n",
       "    <tr>\n",
       "      <th>4</th>\n",
       "      <td>-14.251414</td>\n",
       "      <td>-6.077283</td>\n",
       "    </tr>\n",
       "    <tr>\n",
       "      <th>...</th>\n",
       "      <td>...</td>\n",
       "      <td>...</td>\n",
       "    </tr>\n",
       "    <tr>\n",
       "      <th>224</th>\n",
       "      <td>9.653092</td>\n",
       "      <td>-6.606653</td>\n",
       "    </tr>\n",
       "    <tr>\n",
       "      <th>225</th>\n",
       "      <td>5.550569</td>\n",
       "      <td>1.528996</td>\n",
       "    </tr>\n",
       "    <tr>\n",
       "      <th>226</th>\n",
       "      <td>15.436219</td>\n",
       "      <td>-10.045493</td>\n",
       "    </tr>\n",
       "    <tr>\n",
       "      <th>227</th>\n",
       "      <td>3.918822</td>\n",
       "      <td>2.182352</td>\n",
       "    </tr>\n",
       "    <tr>\n",
       "      <th>228</th>\n",
       "      <td>3.918259</td>\n",
       "      <td>2.173506</td>\n",
       "    </tr>\n",
       "  </tbody>\n",
       "</table>\n",
       "<p>229 rows × 2 columns</p>\n",
       "</div>"
      ],
      "text/plain": [
       "            t1         t2\n",
       "0    -7.003496  -9.252703\n",
       "1     5.126333   8.976897\n",
       "2   -12.963505  -8.120878\n",
       "3   -13.114311  -8.429770\n",
       "4   -14.251414  -6.077283\n",
       "..         ...        ...\n",
       "224   9.653092  -6.606653\n",
       "225   5.550569   1.528996\n",
       "226  15.436219 -10.045493\n",
       "227   3.918822   2.182352\n",
       "228   3.918259   2.173506\n",
       "\n",
       "[229 rows x 2 columns]"
      ]
     },
     "execution_count": 6,
     "metadata": {},
     "output_type": "execute_result"
    }
   ],
   "source": [
    "feature=pd.DataFrame(\n",
    "    {\"t1\":tsne_results['tsne1'],\n",
    "     \"t2\":tsne_results['tsne2']}\n",
    "     )\n",
    "feature"
   ]
  },
  {
   "cell_type": "code",
   "execution_count": 7,
   "metadata": {},
   "outputs": [
    {
     "data": {
      "text/plain": [
       "<matplotlib.collections.PathCollection at 0x1f218799f08>"
      ]
     },
     "execution_count": 7,
     "metadata": {},
     "output_type": "execute_result"
    },
    {
     "data": {
      "image/png": "[encoded data removed]",
      "text/plain": [
       "<Figure size 432x288 with 1 Axes>"
      ]
     },
     "metadata": {
      "needs_background": "light"
     },
     "output_type": "display_data"
    }
   ],
   "source": [
    "model = KMeans(n_clusters=8,init = 'k-means++', n_init = 10, max_iter = 300,random_state=5) #,algorithm='auto' \n",
    "#random_state 5가 최대 0.4059880543975222\n",
    "model.fit(feature)\n",
    "predict = pd.DataFrame(model.predict(feature))\n",
    "predict.columns=['predict']\n",
    "r = pd.concat([feature,predict],axis=1)\n",
    "plt.scatter(r['t1'],r['t2'],c=r['predict'],alpha=0.5)\n",
    "\n"
   ]
  },
  {
   "cell_type": "code",
   "execution_count": 8,
   "metadata": {},
   "outputs": [
    {
     "data": {
      "image/png": "[encoded data removed]",
      "text/plain": [
       "<Figure size 432x288 with 1 Axes>"
      ]
     },
     "metadata": {
      "needs_background": "light"
     },
     "output_type": "display_data"
    }
   ],
   "source": [
    "from sklearn.metrics import silhouette_samples\n",
    "# sklearn의 metrics 모델 안에 silhouette_samples함수로 계산\n",
    "# k-means++ 알고리즘 \n",
    "#km = KMeans(n_clusters = 3, init = 'k-means++', n_init = 10, max_iter = 300, tol = 1e-04, random_state = 0) \n",
    "\n",
    "km=model\n",
    "X=feature\n",
    "y_km = km.fit_predict(X)\n",
    "cluster_labels = np.unique(y_km)\n",
    "n_clusters = cluster_labels.shape[0] \n",
    "# 실루엣 분석\n",
    "silhouette_vals = silhouette_samples(X, y_km, metric = 'manhattan') \n",
    "# 시각화 \n",
    "y_ax_lower, y_ax_upper = 0, 0\n",
    "yticks = [] \n",
    "for i, c in enumerate(cluster_labels) :\n",
    "    c_silhouette_vals = silhouette_vals[y_km == c]\n",
    "    c_silhouette_vals.sort()\n",
    "    y_ax_upper += len(c_silhouette_vals)\n",
    "    color = cm.jet(float(i) / n_clusters)\n",
    "    plt.barh(range(y_ax_lower, y_ax_upper), c_silhouette_vals, height = 1.0, edgecolor = 'none', color = color) \n",
    "    yticks.append((y_ax_lower + y_ax_upper) / 2)\n",
    "    y_ax_lower += len(c_silhouette_vals) \n",
    "silhouette_avg = np.mean(silhouette_vals)\n",
    "plt.yticks(yticks, cluster_labels + 1)\n",
    "plt.ylabel('Cluster')\n",
    "plt.xlabel('Silhouette coefficient')\n",
    "plt.tight_layout() \n",
    "plt.show()\n",
    "\n"
   ]
  },
  {
   "cell_type": "code",
   "execution_count": 9,
   "metadata": {},
   "outputs": [
    {
     "data": {
      "text/plain": [
       "0.40216452472916336"
      ]
     },
     "execution_count": 9,
     "metadata": {},
     "output_type": "execute_result"
    }
   ],
   "source": [
    "silhouette_avg"
   ]
  },
  {
   "cell_type": "code",
   "execution_count": 15,
   "metadata": {},
   "outputs": [
    {
     "data": {
      "text/plain": [
       "array([1, 3, 4, 4, 4, 4, 4, 4, 0, 4, 2, 4, 4, 4, 2, 4, 4, 4, 4, 4, 4, 4,\n",
       "       4, 4, 4, 4, 4, 4, 4, 4, 4, 4, 2, 4, 4, 2, 1, 4, 4, 4, 3, 1, 4, 4,\n",
       "       4, 2, 2, 2, 2, 4, 1, 2, 4, 4, 2, 2, 4, 0, 5, 3, 2, 2, 2, 2, 2, 2,\n",
       "       2, 2, 1, 2, 1, 2, 3, 1, 2, 2, 2, 2, 2, 2, 2, 1, 4, 1, 2, 1, 2, 2,\n",
       "       2, 1, 2, 2, 2, 2, 1, 1, 1, 2, 1, 2, 1, 1, 3, 6, 6, 6, 2, 1, 3, 3,\n",
       "       6, 6, 3, 6, 5, 5, 6, 5, 6, 6, 0, 6, 6, 6, 3, 3, 1, 6, 5, 6, 3, 5,\n",
       "       3, 5, 6, 1, 3, 3, 1, 1, 3, 2, 1, 5, 6, 5, 5, 5, 5, 5, 2, 1, 1, 3,\n",
       "       3, 5, 3, 0, 0, 0, 0, 0, 6, 6, 2, 1, 3, 6, 1, 6, 5, 0, 0, 0, 5, 0,\n",
       "       0, 0, 3, 3, 0, 5, 0, 0, 0, 0, 1, 1, 4, 2, 1, 2, 5, 6, 6, 2, 0, 0,\n",
       "       5, 0, 4, 6, 5, 0, 3, 6, 0, 6, 5, 3, 3, 3, 2, 5, 1, 2, 2, 6, 3, 6,\n",
       "       5, 5, 6, 6, 5, 3, 0, 3, 3])"
      ]
     },
     "execution_count": 15,
     "metadata": {},
     "output_type": "execute_result"
    }
   ],
   "source": [
    "y_km"
   ]
  },
  {
   "cell_type": "code",
   "execution_count": 16,
   "metadata": {},
   "outputs": [
    {
     "data": {
      "text/html": [
       "<div>\n",
       "<style scoped>\n",
       "    .dataframe tbody tr th:only-of-type {\n",
       "        vertical-align: middle;\n",
       "    }\n",
       "\n",
       "    .dataframe tbody tr th {\n",
       "        vertical-align: top;\n",
       "    }\n",
       "\n",
       "    .dataframe thead th {\n",
       "        text-align: right;\n",
       "    }\n",
       "</style>\n",
       "<table border=\"1\" class=\"dataframe\">\n",
       "  <thead>\n",
       "    <tr style=\"text-align: right;\">\n",
       "      <th></th>\n",
       "      <th>t1</th>\n",
       "      <th>t2</th>\n",
       "      <th>c</th>\n",
       "    </tr>\n",
       "  </thead>\n",
       "  <tbody>\n",
       "    <tr>\n",
       "      <th>0</th>\n",
       "      <td>-7.003496</td>\n",
       "      <td>-9.252703</td>\n",
       "      <td>1</td>\n",
       "    </tr>\n",
       "    <tr>\n",
       "      <th>1</th>\n",
       "      <td>5.126333</td>\n",
       "      <td>8.976897</td>\n",
       "      <td>3</td>\n",
       "    </tr>\n",
       "    <tr>\n",
       "      <th>2</th>\n",
       "      <td>-12.963505</td>\n",
       "      <td>-8.120878</td>\n",
       "      <td>4</td>\n",
       "    </tr>\n",
       "    <tr>\n",
       "      <th>3</th>\n",
       "      <td>-13.114311</td>\n",
       "      <td>-8.429770</td>\n",
       "      <td>4</td>\n",
       "    </tr>\n",
       "    <tr>\n",
       "      <th>4</th>\n",
       "      <td>-14.251414</td>\n",
       "      <td>-6.077283</td>\n",
       "      <td>4</td>\n",
       "    </tr>\n",
       "    <tr>\n",
       "      <th>...</th>\n",
       "      <td>...</td>\n",
       "      <td>...</td>\n",
       "      <td>...</td>\n",
       "    </tr>\n",
       "    <tr>\n",
       "      <th>224</th>\n",
       "      <td>9.653092</td>\n",
       "      <td>-6.606653</td>\n",
       "      <td>5</td>\n",
       "    </tr>\n",
       "    <tr>\n",
       "      <th>225</th>\n",
       "      <td>5.550569</td>\n",
       "      <td>1.528996</td>\n",
       "      <td>3</td>\n",
       "    </tr>\n",
       "    <tr>\n",
       "      <th>226</th>\n",
       "      <td>15.436219</td>\n",
       "      <td>-10.045493</td>\n",
       "      <td>0</td>\n",
       "    </tr>\n",
       "    <tr>\n",
       "      <th>227</th>\n",
       "      <td>3.918822</td>\n",
       "      <td>2.182352</td>\n",
       "      <td>3</td>\n",
       "    </tr>\n",
       "    <tr>\n",
       "      <th>228</th>\n",
       "      <td>3.918259</td>\n",
       "      <td>2.173506</td>\n",
       "      <td>3</td>\n",
       "    </tr>\n",
       "  </tbody>\n",
       "</table>\n",
       "<p>229 rows × 3 columns</p>\n",
       "</div>"
      ],
      "text/plain": [
       "            t1         t2  c\n",
       "0    -7.003496  -9.252703  1\n",
       "1     5.126333   8.976897  3\n",
       "2   -12.963505  -8.120878  4\n",
       "3   -13.114311  -8.429770  4\n",
       "4   -14.251414  -6.077283  4\n",
       "..         ...        ... ..\n",
       "224   9.653092  -6.606653  5\n",
       "225   5.550569   1.528996  3\n",
       "226  15.436219 -10.045493  0\n",
       "227   3.918822   2.182352  3\n",
       "228   3.918259   2.173506  3\n",
       "\n",
       "[229 rows x 3 columns]"
      ]
     },
     "execution_count": 16,
     "metadata": {},
     "output_type": "execute_result"
    }
   ],
   "source": [
    "feature2=pd.DataFrame(\n",
    "    {\"t1\":tsne_results['tsne1'],\n",
    "     \"t2\":tsne_results['tsne2'],\n",
    "     \"c\":y_km,\n",
    "    }\n",
    "     )\n",
    "feature2"
   ]
  },
  {
   "cell_type": "code",
   "execution_count": 17,
   "metadata": {},
   "outputs": [],
   "source": [
    "#feature2.to_excel('D:\\사용자\\\\USER\\\\Desktop\\\\데이터\\\\유사도\\\\클러스터링.xlsx', index=False)"
   ]
  },
  {
   "cell_type": "code",
   "execution_count": null,
   "metadata": {},
   "outputs": [],
   "source": []
  }
 ],
 "metadata": {
  "kernelspec": {
   "display_name": "Python 3",
   "language": "python",
   "name": "python3"
  },
  "language_info": {
   "codemirror_mode": {
    "name": "ipython",
    "version": 3
   },
   "file_extension": ".py",
   "mimetype": "text/x-python",
   "name": "python",
   "nbconvert_exporter": "python",
   "pygments_lexer": "ipython3",
   "version": "3.7.6"
  }
 },
 "nbformat": 4,
 "nbformat_minor": 4
}
