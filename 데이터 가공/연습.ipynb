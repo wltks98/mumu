{
 "cells": [
  {
   "cell_type": "code",
   "execution_count": 1,
   "metadata": {},
   "outputs": [],
   "source": [
    "import pandas as pd\n",
    "import pandas as pd\n",
    "import numpy as np\n",
    "# 기존 plotnine(ggplot)코드를 pandas와 seaborn으로 변경\n",
    "# from plotnine import *\n",
    "import seaborn as sns\n",
    "# 지도 시각화를 위해\n",
    "import folium\n",
    "\n",
    "import warnings\n",
    "warnings.filterwarnings('ignore')\n",
    "# warning 메시지 제거, warning 메시지는 라이브러리 업데이트나 사용법에 대한 안내 등이 있습니다.\n",
    "# 코딩을 처음 시작할 때는  warning 메시지가 나오면 당황하실 수도 있어서 제거를 하고 보도록 합니다.\n",
    "# warning 메시지는 제거하고 보셔도 되지만 Error 메시지를 꼭 고쳐주셔야 합니다.\n",
    "warnings.filterwarnings('ignore', 'This pattern has match groups')\n",
    "warnings.filterwarnings('ignore', 'The iterable function was deprecated in Matplotlib')\n",
    "\n",
    "import matplotlib.pyplot as plt\n",
    "from IPython.display import set_matplotlib_formats\n",
    "# Window 의 한글 폰트 설정\n",
    "# plt.rc('font',family='Malgun Gothic')\n",
    "# Mac 의 한글 폰트 설정\n",
    "plt.rc('font',family='Malgun Gothic') \n",
    "plt.rc('axes', unicode_minus=False)\n",
    "\n",
    "set_matplotlib_formats('retina')\n",
    "\n",
    "import json\n",
    "import mpld3"
   ]
  },
  {
   "cell_type": "code",
   "execution_count": 2,
   "metadata": {},
   "outputs": [],
   "source": [
    "df = pd.read_csv('D:\\\\사용자\\\\USER\\\\Desktop\\\\데이터\\\\최종2\\\\서울종합2.csv')"
   ]
  },
  {
   "cell_type": "code",
   "execution_count": 8,
   "metadata": {},
   "outputs": [
    {
     "data": {
      "text/html": [
       "<div>\n",
       "<style scoped>\n",
       "    .dataframe tbody tr th:only-of-type {\n",
       "        vertical-align: middle;\n",
       "    }\n",
       "\n",
       "    .dataframe tbody tr th {\n",
       "        vertical-align: top;\n",
       "    }\n",
       "\n",
       "    .dataframe thead th {\n",
       "        text-align: right;\n",
       "    }\n",
       "</style>\n",
       "<table border=\"1\" class=\"dataframe\">\n",
       "  <thead>\n",
       "    <tr style=\"text-align: right;\">\n",
       "      <th></th>\n",
       "      <th>구</th>\n",
       "      <th>건강</th>\n",
       "      <th>교육</th>\n",
       "      <th>상권</th>\n",
       "      <th>생활</th>\n",
       "      <th>스포츠</th>\n",
       "      <th>안전</th>\n",
       "      <th>여가</th>\n",
       "      <th>체육</th>\n",
       "      <th>환경</th>\n",
       "    </tr>\n",
       "  </thead>\n",
       "  <tbody>\n",
       "    <tr>\n",
       "      <th>22</th>\n",
       "      <td>강남구</td>\n",
       "      <td>0.772</td>\n",
       "      <td>0.427</td>\n",
       "      <td>0.9</td>\n",
       "      <td>0.453</td>\n",
       "      <td>0.435</td>\n",
       "      <td>0.549</td>\n",
       "      <td>0.147</td>\n",
       "      <td>0.677</td>\n",
       "      <td>0.407</td>\n",
       "    </tr>\n",
       "  </tbody>\n",
       "</table>\n",
       "</div>"
      ],
      "text/plain": [
       "      구     건강     교육   상권     생활    스포츠     안전     여가     체육     환경\n",
       "22  강남구  0.772  0.427  0.9  0.453  0.435  0.549  0.147  0.677  0.407"
      ]
     },
     "execution_count": 8,
     "metadata": {},
     "output_type": "execute_result"
    }
   ],
   "source": [
    "df1 = df[df['구'].str.contains('강남구')]\n",
    "df2 = df[df['구'].str.contains('강동구')]\n",
    "df1"
   ]
  },
  {
   "cell_type": "code",
   "execution_count": 14,
   "metadata": {},
   "outputs": [],
   "source": [
    "def cal(name,arr,dfarr):\n",
    "    sum=0\n",
    "    for i in range (2):\n",
    "        df=dfarr[i]\n",
    "        sum+=float(df[name])*arr[i]\n",
    "    \n",
    "    return sum"
   ]
  },
  {
   "cell_type": "code",
   "execution_count": 15,
   "metadata": {},
   "outputs": [],
   "source": [
    "arr=[10,30]\n",
    "dfarr=[df1,df2]\n",
    "\n",
    "\n",
    "health=cal('건강',arr,dfarr)"
   ]
  },
  {
   "cell_type": "code",
   "execution_count": 16,
   "metadata": {},
   "outputs": [
    {
     "name": "stdout",
     "output_type": "stream",
     "text": [
      "19.509999999999998\n"
     ]
    }
   ],
   "source": [
    "print(health)"
   ]
  },
  {
   "cell_type": "code",
   "execution_count": null,
   "metadata": {},
   "outputs": [],
   "source": []
  }
 ],
 "metadata": {
  "kernelspec": {
   "display_name": "Python 3",
   "language": "python",
   "name": "python3"
  },
  "language_info": {
   "codemirror_mode": {
    "name": "ipython",
    "version": 3
   },
   "file_extension": ".py",
   "mimetype": "text/x-python",
   "name": "python",
   "nbconvert_exporter": "python",
   "pygments_lexer": "ipython3",
   "version": "3.7.6"
  }
 },
 "nbformat": 4,
 "nbformat_minor": 4
}
